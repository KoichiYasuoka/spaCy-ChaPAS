{
  "nbformat":4,
  "nbformat_minor":0,
  "metadata":{
    "colab":{ "name":"舞姬/荒野より-Benchmarks of spaCy-ChaPAS" },
    "kernelspec":{ "name":"python3" }
  },
  "cells":[
    {
      "cell_type":"markdown",
      "metadata":{ "colab_type":"text" },
      "source":[
        "# 舞姬/荒野より-Benchmarks of [spaCy-ChaPAS](https://github.com/KoichiYasuoka/spaCy-ChaPAS)"
      ]
    },
    {
      "cell_type":"code",
      "metadata":{ "colab_type":"code" },
      "source":[
        "!apt update\n",
        "!apt install mecab libmecab-dev mecab-ipadic-utf8 openjdk-8-jre-headless\n",
        "!test -f crfpp.tar.gz || curl -L 'https://drive.google.com/uc?export=download&id=0B4y35FiV1wh7QVR6VXJ5dWExSTQ' -o crfpp.tar.gz\n",
        "!test -d CRF++-0.58 || ( tar xzf crfpp.tar.gz && cd CRF++-0.58 && ./configure --prefix=/usr && make install )\n",
        "!curl -sc cabocha.cookie 'https://drive.google.com/uc?export=download&id=0B4y35FiV1wh7SDd1Q1dUQkZQaUU' > /dev/null\n",
        "!test -f cabocha.tar.bz2 || curl -Lb cabocha.cookie 'https://drive.google.com/uc?export=download&id=0B4y35FiV1wh7SDd1Q1dUQkZQaUU&confirm='`tr -d '\\015' < cabocha.cookie | awk '/_warning_/{print $NF}'` -o cabocha.tar.bz2\n",
        "!test -d cabocha-0.69 || ( tar xjf cabocha.tar.bz2 && cd cabocha-0.69 && ./configure --prefix=/usr --with-charset=UTF8 && make install )\n",
        "!curl -sc chapas.cookie 'https://drive.google.com/uc?export=download&id=0BwG_CvJHq43fNDlqSkVSREkzaEk' > /dev/null\n",
        "!test -f chapas.tar.gz || curl -Lb chapas.cookie 'https://drive.google.com/uc?export=download&id=0BwG_CvJHq43fNDlqSkVSREkzaEk&confirm='`tr -d '\\015' < chapas.cookie | awk '/_warning_/{print $NF}'` -o chapas.tar.gz\n",
        "!test -d chapas-0.742 || ( tar xzf chapas.tar.gz && echo exec /usr/lib/jvm/j*-1.8.*/bin/java -Xmx1g -jar /content/chapas-0.742/chapas.jar '\"$@\"' > /usr/bin/chapas && chmod 755 /usr/bin/chapas )\n",
        "!pip install spacy_chapas\n",
        "!curl -L https://raw.githubusercontent.com/KoichiYasuoka/UniDic2UD/master/benchmark/maihime-benchmark.tar.gz | tar xzf -\n",
        "!sh benchmark.sh spacy_chapas 'load(\"kindai\")' maihime.conllu\n",
        "!sh benchmark.sh spacy_chapas 'load(\"qkana\")' maihime.conllu\n",
        "!sh benchmark.sh spacy_chapas 'load(\"kinsei\")' maihime.conllu\n",
        "!curl -L https://raw.githubusercontent.com/KoichiYasuoka/UniDic2UD/master/benchmark/koyayori-benchmark.tar.gz | tar xzf -\n",
        "!sh benchmark.sh spacy_chapas 'load(\"kindai\")' koyayori.conllu\n",
        "!sh benchmark.sh spacy_chapas 'load(\"spoken\")' koyayori.conllu\n",
        "!sh benchmark.sh spacy_chapas 'load(\"gendai\")' koyayori.conllu"
      ],
      "outputs":[
        {
          "output_type":"stream",
          "text":[
            "### spacy_chapas.load(\"kindai\") maihime.conllu\n",
            "LAS F1 Score: 79.25\n",
            "MLAS Score: 59.26\n",
            "BLEX Score: 62.96\n",
            "### spacy_chapas.load(\"qkana\") maihime.conllu\n",
            "LAS F1 Score: 77.36\n",
            "MLAS Score: 59.26\n",
            "BLEX Score: 62.96\n",
            "### spacy_chapas.load(\"kinsei\") maihime.conllu\n",
            "LAS F1 Score: 70.37\n",
            "MLAS Score: 53.57\n",
            "BLEX Score: 53.57\n",
            "### spacy_chapas.load(\"kindai\") koyayori.conllu\n",
            "LAS F1 Score: 67.72\n",
            "MLAS Score: 35.14\n",
            "BLEX Score: 35.14\n",
            "### spacy_chapas.load(\"spoken\") koyayori.conllu\n",
            "LAS F1 Score: 66.67\n",
            "MLAS Score: 34.67\n",
            "BLEX Score: 34.67\n",
            "### spacy_chapas.load(\"gendai\") koyayori.conllu\n",
            "LAS F1 Score: 65.61\n",
            "MLAS Score: 34.67\n",
            "BLEX Score: 34.67\n",
            "\n"
          ]
        }
      ]
    }
  ]
}
